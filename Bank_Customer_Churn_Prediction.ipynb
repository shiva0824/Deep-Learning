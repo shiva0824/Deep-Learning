{
 "cells": [
  {
   "cell_type": "markdown",
   "metadata": {},
   "source": [
    "Bank customer churn prediction using Artificial Neural Network (ANN)"
   ]
  },
  {
   "cell_type": "code",
   "execution_count": 1,
   "metadata": {},
   "outputs": [],
   "source": [
    "import pandas as pd\n",
    "from matplotlib import pyplot as plt\n",
    "import numpy as np\n",
    "%matplotlib inline"
   ]
  },
  {
   "cell_type": "code",
   "execution_count": 2,
   "metadata": {},
   "outputs": [
    {
     "data": {
      "text/html": [
       "<div>\n",
       "<style scoped>\n",
       "    .dataframe tbody tr th:only-of-type {\n",
       "        vertical-align: middle;\n",
       "    }\n",
       "\n",
       "    .dataframe tbody tr th {\n",
       "        vertical-align: top;\n",
       "    }\n",
       "\n",
       "    .dataframe thead th {\n",
       "        text-align: right;\n",
       "    }\n",
       "</style>\n",
       "<table border=\"1\" class=\"dataframe\">\n",
       "  <thead>\n",
       "    <tr style=\"text-align: right;\">\n",
       "      <th></th>\n",
       "      <th>RowNumber</th>\n",
       "      <th>CustomerId</th>\n",
       "      <th>Surname</th>\n",
       "      <th>CreditScore</th>\n",
       "      <th>Geography</th>\n",
       "      <th>Gender</th>\n",
       "      <th>Age</th>\n",
       "      <th>Tenure</th>\n",
       "      <th>Balance</th>\n",
       "      <th>NumOfProducts</th>\n",
       "      <th>HasCrCard</th>\n",
       "      <th>IsActiveMember</th>\n",
       "      <th>EstimatedSalary</th>\n",
       "      <th>Exited</th>\n",
       "    </tr>\n",
       "  </thead>\n",
       "  <tbody>\n",
       "    <tr>\n",
       "      <th>0</th>\n",
       "      <td>1</td>\n",
       "      <td>15634602</td>\n",
       "      <td>Hargrave</td>\n",
       "      <td>619</td>\n",
       "      <td>France</td>\n",
       "      <td>Female</td>\n",
       "      <td>42</td>\n",
       "      <td>2</td>\n",
       "      <td>0.00</td>\n",
       "      <td>1</td>\n",
       "      <td>1</td>\n",
       "      <td>1</td>\n",
       "      <td>101348.88</td>\n",
       "      <td>1</td>\n",
       "    </tr>\n",
       "    <tr>\n",
       "      <th>1</th>\n",
       "      <td>2</td>\n",
       "      <td>15647311</td>\n",
       "      <td>Hill</td>\n",
       "      <td>608</td>\n",
       "      <td>Spain</td>\n",
       "      <td>Female</td>\n",
       "      <td>41</td>\n",
       "      <td>1</td>\n",
       "      <td>83807.86</td>\n",
       "      <td>1</td>\n",
       "      <td>0</td>\n",
       "      <td>1</td>\n",
       "      <td>112542.58</td>\n",
       "      <td>0</td>\n",
       "    </tr>\n",
       "    <tr>\n",
       "      <th>2</th>\n",
       "      <td>3</td>\n",
       "      <td>15619304</td>\n",
       "      <td>Onio</td>\n",
       "      <td>502</td>\n",
       "      <td>France</td>\n",
       "      <td>Female</td>\n",
       "      <td>42</td>\n",
       "      <td>8</td>\n",
       "      <td>159660.80</td>\n",
       "      <td>3</td>\n",
       "      <td>1</td>\n",
       "      <td>0</td>\n",
       "      <td>113931.57</td>\n",
       "      <td>1</td>\n",
       "    </tr>\n",
       "    <tr>\n",
       "      <th>3</th>\n",
       "      <td>4</td>\n",
       "      <td>15701354</td>\n",
       "      <td>Boni</td>\n",
       "      <td>699</td>\n",
       "      <td>France</td>\n",
       "      <td>Female</td>\n",
       "      <td>39</td>\n",
       "      <td>1</td>\n",
       "      <td>0.00</td>\n",
       "      <td>2</td>\n",
       "      <td>0</td>\n",
       "      <td>0</td>\n",
       "      <td>93826.63</td>\n",
       "      <td>0</td>\n",
       "    </tr>\n",
       "    <tr>\n",
       "      <th>4</th>\n",
       "      <td>5</td>\n",
       "      <td>15737888</td>\n",
       "      <td>Mitchell</td>\n",
       "      <td>850</td>\n",
       "      <td>Spain</td>\n",
       "      <td>Female</td>\n",
       "      <td>43</td>\n",
       "      <td>2</td>\n",
       "      <td>125510.82</td>\n",
       "      <td>1</td>\n",
       "      <td>1</td>\n",
       "      <td>1</td>\n",
       "      <td>79084.10</td>\n",
       "      <td>0</td>\n",
       "    </tr>\n",
       "  </tbody>\n",
       "</table>\n",
       "</div>"
      ],
      "text/plain": [
       "   RowNumber  CustomerId   Surname  CreditScore Geography  Gender  Age  \\\n",
       "0          1    15634602  Hargrave          619    France  Female   42   \n",
       "1          2    15647311      Hill          608     Spain  Female   41   \n",
       "2          3    15619304      Onio          502    France  Female   42   \n",
       "3          4    15701354      Boni          699    France  Female   39   \n",
       "4          5    15737888  Mitchell          850     Spain  Female   43   \n",
       "\n",
       "   Tenure    Balance  NumOfProducts  HasCrCard  IsActiveMember  \\\n",
       "0       2       0.00              1          1               1   \n",
       "1       1   83807.86              1          0               1   \n",
       "2       8  159660.80              3          1               0   \n",
       "3       1       0.00              2          0               0   \n",
       "4       2  125510.82              1          1               1   \n",
       "\n",
       "   EstimatedSalary  Exited  \n",
       "0        101348.88       1  \n",
       "1        112542.58       0  \n",
       "2        113931.57       1  \n",
       "3         93826.63       0  \n",
       "4         79084.10       0  "
      ]
     },
     "execution_count": 2,
     "metadata": {},
     "output_type": "execute_result"
    }
   ],
   "source": [
    "df = pd.read_csv('Bank_data.csv')\n",
    "df.head()"
   ]
  },
  {
   "cell_type": "code",
   "execution_count": 7,
   "metadata": {},
   "outputs": [],
   "source": [
    "#dropping columns which are not useful\n",
    "df = df.drop(['CustomerId', 'Surname', 'RowNumber', 'Geography'], axis = 1)"
   ]
  },
  {
   "cell_type": "code",
   "execution_count": 8,
   "metadata": {},
   "outputs": [
    {
     "data": {
      "text/html": [
       "<div>\n",
       "<style scoped>\n",
       "    .dataframe tbody tr th:only-of-type {\n",
       "        vertical-align: middle;\n",
       "    }\n",
       "\n",
       "    .dataframe tbody tr th {\n",
       "        vertical-align: top;\n",
       "    }\n",
       "\n",
       "    .dataframe thead th {\n",
       "        text-align: right;\n",
       "    }\n",
       "</style>\n",
       "<table border=\"1\" class=\"dataframe\">\n",
       "  <thead>\n",
       "    <tr style=\"text-align: right;\">\n",
       "      <th></th>\n",
       "      <th>CreditScore</th>\n",
       "      <th>Gender</th>\n",
       "      <th>Age</th>\n",
       "      <th>Tenure</th>\n",
       "      <th>Balance</th>\n",
       "      <th>NumOfProducts</th>\n",
       "      <th>HasCrCard</th>\n",
       "      <th>IsActiveMember</th>\n",
       "      <th>EstimatedSalary</th>\n",
       "      <th>Exited</th>\n",
       "    </tr>\n",
       "  </thead>\n",
       "  <tbody>\n",
       "    <tr>\n",
       "      <th>0</th>\n",
       "      <td>619</td>\n",
       "      <td>Female</td>\n",
       "      <td>42</td>\n",
       "      <td>2</td>\n",
       "      <td>0.00</td>\n",
       "      <td>1</td>\n",
       "      <td>1</td>\n",
       "      <td>1</td>\n",
       "      <td>101348.88</td>\n",
       "      <td>1</td>\n",
       "    </tr>\n",
       "    <tr>\n",
       "      <th>1</th>\n",
       "      <td>608</td>\n",
       "      <td>Female</td>\n",
       "      <td>41</td>\n",
       "      <td>1</td>\n",
       "      <td>83807.86</td>\n",
       "      <td>1</td>\n",
       "      <td>0</td>\n",
       "      <td>1</td>\n",
       "      <td>112542.58</td>\n",
       "      <td>0</td>\n",
       "    </tr>\n",
       "    <tr>\n",
       "      <th>2</th>\n",
       "      <td>502</td>\n",
       "      <td>Female</td>\n",
       "      <td>42</td>\n",
       "      <td>8</td>\n",
       "      <td>159660.80</td>\n",
       "      <td>3</td>\n",
       "      <td>1</td>\n",
       "      <td>0</td>\n",
       "      <td>113931.57</td>\n",
       "      <td>1</td>\n",
       "    </tr>\n",
       "    <tr>\n",
       "      <th>3</th>\n",
       "      <td>699</td>\n",
       "      <td>Female</td>\n",
       "      <td>39</td>\n",
       "      <td>1</td>\n",
       "      <td>0.00</td>\n",
       "      <td>2</td>\n",
       "      <td>0</td>\n",
       "      <td>0</td>\n",
       "      <td>93826.63</td>\n",
       "      <td>0</td>\n",
       "    </tr>\n",
       "    <tr>\n",
       "      <th>4</th>\n",
       "      <td>850</td>\n",
       "      <td>Female</td>\n",
       "      <td>43</td>\n",
       "      <td>2</td>\n",
       "      <td>125510.82</td>\n",
       "      <td>1</td>\n",
       "      <td>1</td>\n",
       "      <td>1</td>\n",
       "      <td>79084.10</td>\n",
       "      <td>0</td>\n",
       "    </tr>\n",
       "  </tbody>\n",
       "</table>\n",
       "</div>"
      ],
      "text/plain": [
       "   CreditScore  Gender  Age  Tenure    Balance  NumOfProducts  HasCrCard  \\\n",
       "0          619  Female   42       2       0.00              1          1   \n",
       "1          608  Female   41       1   83807.86              1          0   \n",
       "2          502  Female   42       8  159660.80              3          1   \n",
       "3          699  Female   39       1       0.00              2          0   \n",
       "4          850  Female   43       2  125510.82              1          1   \n",
       "\n",
       "   IsActiveMember  EstimatedSalary  Exited  \n",
       "0               1        101348.88       1  \n",
       "1               1        112542.58       0  \n",
       "2               0        113931.57       1  \n",
       "3               0         93826.63       0  \n",
       "4               1         79084.10       0  "
      ]
     },
     "execution_count": 8,
     "metadata": {},
     "output_type": "execute_result"
    }
   ],
   "source": [
    "df.head()"
   ]
  },
  {
   "cell_type": "code",
   "execution_count": 10,
   "metadata": {},
   "outputs": [
    {
     "data": {
      "text/plain": [
       "CreditScore          int64\n",
       "Gender              object\n",
       "Age                  int64\n",
       "Tenure               int64\n",
       "Balance            float64\n",
       "NumOfProducts        int64\n",
       "HasCrCard            int64\n",
       "IsActiveMember       int64\n",
       "EstimatedSalary    float64\n",
       "Exited               int64\n",
       "dtype: object"
      ]
     },
     "execution_count": 10,
     "metadata": {},
     "output_type": "execute_result"
    }
   ],
   "source": [
    "df.dtypes"
   ]
  },
  {
   "cell_type": "code",
   "execution_count": 15,
   "metadata": {},
   "outputs": [
    {
     "data": {
      "text/html": [
       "<div>\n",
       "<style scoped>\n",
       "    .dataframe tbody tr th:only-of-type {\n",
       "        vertical-align: middle;\n",
       "    }\n",
       "\n",
       "    .dataframe tbody tr th {\n",
       "        vertical-align: top;\n",
       "    }\n",
       "\n",
       "    .dataframe thead th {\n",
       "        text-align: right;\n",
       "    }\n",
       "</style>\n",
       "<table border=\"1\" class=\"dataframe\">\n",
       "  <thead>\n",
       "    <tr style=\"text-align: right;\">\n",
       "      <th></th>\n",
       "      <th>CreditScore</th>\n",
       "      <th>Gender</th>\n",
       "      <th>Age</th>\n",
       "      <th>Tenure</th>\n",
       "      <th>Balance</th>\n",
       "      <th>NumOfProducts</th>\n",
       "      <th>HasCrCard</th>\n",
       "      <th>IsActiveMember</th>\n",
       "      <th>EstimatedSalary</th>\n",
       "      <th>Exited</th>\n",
       "    </tr>\n",
       "  </thead>\n",
       "  <tbody>\n",
       "    <tr>\n",
       "      <th>0</th>\n",
       "      <td>619</td>\n",
       "      <td>1</td>\n",
       "      <td>42</td>\n",
       "      <td>2</td>\n",
       "      <td>0.00</td>\n",
       "      <td>1</td>\n",
       "      <td>1</td>\n",
       "      <td>1</td>\n",
       "      <td>101348.88</td>\n",
       "      <td>1</td>\n",
       "    </tr>\n",
       "    <tr>\n",
       "      <th>1</th>\n",
       "      <td>608</td>\n",
       "      <td>1</td>\n",
       "      <td>41</td>\n",
       "      <td>1</td>\n",
       "      <td>83807.86</td>\n",
       "      <td>1</td>\n",
       "      <td>0</td>\n",
       "      <td>1</td>\n",
       "      <td>112542.58</td>\n",
       "      <td>0</td>\n",
       "    </tr>\n",
       "    <tr>\n",
       "      <th>2</th>\n",
       "      <td>502</td>\n",
       "      <td>1</td>\n",
       "      <td>42</td>\n",
       "      <td>8</td>\n",
       "      <td>159660.80</td>\n",
       "      <td>3</td>\n",
       "      <td>1</td>\n",
       "      <td>0</td>\n",
       "      <td>113931.57</td>\n",
       "      <td>1</td>\n",
       "    </tr>\n",
       "    <tr>\n",
       "      <th>3</th>\n",
       "      <td>699</td>\n",
       "      <td>1</td>\n",
       "      <td>39</td>\n",
       "      <td>1</td>\n",
       "      <td>0.00</td>\n",
       "      <td>2</td>\n",
       "      <td>0</td>\n",
       "      <td>0</td>\n",
       "      <td>93826.63</td>\n",
       "      <td>0</td>\n",
       "    </tr>\n",
       "    <tr>\n",
       "      <th>4</th>\n",
       "      <td>850</td>\n",
       "      <td>1</td>\n",
       "      <td>43</td>\n",
       "      <td>2</td>\n",
       "      <td>125510.82</td>\n",
       "      <td>1</td>\n",
       "      <td>1</td>\n",
       "      <td>1</td>\n",
       "      <td>79084.10</td>\n",
       "      <td>0</td>\n",
       "    </tr>\n",
       "  </tbody>\n",
       "</table>\n",
       "</div>"
      ],
      "text/plain": [
       "   CreditScore  Gender  Age  Tenure    Balance  NumOfProducts  HasCrCard  \\\n",
       "0          619       1   42       2       0.00              1          1   \n",
       "1          608       1   41       1   83807.86              1          0   \n",
       "2          502       1   42       8  159660.80              3          1   \n",
       "3          699       1   39       1       0.00              2          0   \n",
       "4          850       1   43       2  125510.82              1          1   \n",
       "\n",
       "   IsActiveMember  EstimatedSalary  Exited  \n",
       "0               1        101348.88       1  \n",
       "1               1        112542.58       0  \n",
       "2               0        113931.57       1  \n",
       "3               0         93826.63       0  \n",
       "4               1         79084.10       0  "
      ]
     },
     "execution_count": 15,
     "metadata": {},
     "output_type": "execute_result"
    }
   ],
   "source": [
    "df['Gender'].replace({'Male':0, 'Female':1}, inplace=True)\n",
    "df.head()"
   ]
  },
  {
   "cell_type": "code",
   "execution_count": 20,
   "metadata": {},
   "outputs": [],
   "source": [
    "#scaling columns tenure, creditscore, age, Balance, Estimatedsalary\n",
    "\n",
    "cols_to_scale = ['CreditScore','Age','Tenure', 'Balance', 'EstimatedSalary']\n",
    "\n",
    "from sklearn.preprocessing import MinMaxScaler\n",
    "scaler = MinMaxScaler()\n",
    "df[cols_to_scale] = scaler.fit_transform(df[cols_to_scale])"
   ]
  },
  {
   "cell_type": "code",
   "execution_count": 21,
   "metadata": {},
   "outputs": [
    {
     "data": {
      "text/html": [
       "<div>\n",
       "<style scoped>\n",
       "    .dataframe tbody tr th:only-of-type {\n",
       "        vertical-align: middle;\n",
       "    }\n",
       "\n",
       "    .dataframe tbody tr th {\n",
       "        vertical-align: top;\n",
       "    }\n",
       "\n",
       "    .dataframe thead th {\n",
       "        text-align: right;\n",
       "    }\n",
       "</style>\n",
       "<table border=\"1\" class=\"dataframe\">\n",
       "  <thead>\n",
       "    <tr style=\"text-align: right;\">\n",
       "      <th></th>\n",
       "      <th>CreditScore</th>\n",
       "      <th>Gender</th>\n",
       "      <th>Age</th>\n",
       "      <th>Tenure</th>\n",
       "      <th>Balance</th>\n",
       "      <th>NumOfProducts</th>\n",
       "      <th>HasCrCard</th>\n",
       "      <th>IsActiveMember</th>\n",
       "      <th>EstimatedSalary</th>\n",
       "      <th>Exited</th>\n",
       "    </tr>\n",
       "  </thead>\n",
       "  <tbody>\n",
       "    <tr>\n",
       "      <th>0</th>\n",
       "      <td>0.538</td>\n",
       "      <td>1</td>\n",
       "      <td>0.324324</td>\n",
       "      <td>0.2</td>\n",
       "      <td>0.000000</td>\n",
       "      <td>1</td>\n",
       "      <td>1</td>\n",
       "      <td>1</td>\n",
       "      <td>0.506735</td>\n",
       "      <td>1</td>\n",
       "    </tr>\n",
       "    <tr>\n",
       "      <th>1</th>\n",
       "      <td>0.516</td>\n",
       "      <td>1</td>\n",
       "      <td>0.310811</td>\n",
       "      <td>0.1</td>\n",
       "      <td>0.334031</td>\n",
       "      <td>1</td>\n",
       "      <td>0</td>\n",
       "      <td>1</td>\n",
       "      <td>0.562709</td>\n",
       "      <td>0</td>\n",
       "    </tr>\n",
       "    <tr>\n",
       "      <th>2</th>\n",
       "      <td>0.304</td>\n",
       "      <td>1</td>\n",
       "      <td>0.324324</td>\n",
       "      <td>0.8</td>\n",
       "      <td>0.636357</td>\n",
       "      <td>3</td>\n",
       "      <td>1</td>\n",
       "      <td>0</td>\n",
       "      <td>0.569654</td>\n",
       "      <td>1</td>\n",
       "    </tr>\n",
       "    <tr>\n",
       "      <th>3</th>\n",
       "      <td>0.698</td>\n",
       "      <td>1</td>\n",
       "      <td>0.283784</td>\n",
       "      <td>0.1</td>\n",
       "      <td>0.000000</td>\n",
       "      <td>2</td>\n",
       "      <td>0</td>\n",
       "      <td>0</td>\n",
       "      <td>0.469120</td>\n",
       "      <td>0</td>\n",
       "    </tr>\n",
       "    <tr>\n",
       "      <th>4</th>\n",
       "      <td>1.000</td>\n",
       "      <td>1</td>\n",
       "      <td>0.337838</td>\n",
       "      <td>0.2</td>\n",
       "      <td>0.500246</td>\n",
       "      <td>1</td>\n",
       "      <td>1</td>\n",
       "      <td>1</td>\n",
       "      <td>0.395400</td>\n",
       "      <td>0</td>\n",
       "    </tr>\n",
       "  </tbody>\n",
       "</table>\n",
       "</div>"
      ],
      "text/plain": [
       "   CreditScore  Gender       Age  Tenure   Balance  NumOfProducts  HasCrCard  \\\n",
       "0        0.538       1  0.324324     0.2  0.000000              1          1   \n",
       "1        0.516       1  0.310811     0.1  0.334031              1          0   \n",
       "2        0.304       1  0.324324     0.8  0.636357              3          1   \n",
       "3        0.698       1  0.283784     0.1  0.000000              2          0   \n",
       "4        1.000       1  0.337838     0.2  0.500246              1          1   \n",
       "\n",
       "   IsActiveMember  EstimatedSalary  Exited  \n",
       "0               1         0.506735       1  \n",
       "1               1         0.562709       0  \n",
       "2               0         0.569654       1  \n",
       "3               0         0.469120       0  \n",
       "4               1         0.395400       0  "
      ]
     },
     "execution_count": 21,
     "metadata": {},
     "output_type": "execute_result"
    }
   ],
   "source": [
    "df.head()"
   ]
  },
  {
   "cell_type": "code",
   "execution_count": 22,
   "metadata": {},
   "outputs": [],
   "source": [
    "#train test split\n",
    "\n",
    "X = df.drop('Exited', axis = 1)\n",
    "y = df['Exited']\n",
    "\n",
    "from sklearn.model_selection import train_test_split\n",
    "X_train, X_test, y_train, y_test = train_test_split(X,y,test_size=0.2,random_state=5)"
   ]
  },
  {
   "cell_type": "code",
   "execution_count": 23,
   "metadata": {},
   "outputs": [
    {
     "name": "stdout",
     "output_type": "stream",
     "text": [
      "(8000, 9)\n",
      "(2000, 9)\n"
     ]
    }
   ],
   "source": [
    "print(X_train.shape)\n",
    "print(X_test.shape)"
   ]
  },
  {
   "cell_type": "code",
   "execution_count": 24,
   "metadata": {},
   "outputs": [
    {
     "name": "stdout",
     "output_type": "stream",
     "text": [
      "Epoch 1/100\n",
      "250/250 [==============================] - 0s 510us/step - loss: 0.5248 - accuracy: 0.7835\n",
      "Epoch 2/100\n",
      "250/250 [==============================] - 0s 488us/step - loss: 0.4828 - accuracy: 0.7960\n",
      "Epoch 3/100\n",
      "250/250 [==============================] - 0s 476us/step - loss: 0.4734 - accuracy: 0.7962\n",
      "Epoch 4/100\n",
      "250/250 [==============================] - 0s 506us/step - loss: 0.4611 - accuracy: 0.8019\n",
      "Epoch 5/100\n",
      "250/250 [==============================] - 0s 474us/step - loss: 0.4471 - accuracy: 0.8112\n",
      "Epoch 6/100\n",
      "250/250 [==============================] - 0s 486us/step - loss: 0.4345 - accuracy: 0.8131\n",
      "Epoch 7/100\n",
      "250/250 [==============================] - 0s 479us/step - loss: 0.4246 - accuracy: 0.8194\n",
      "Epoch 8/100\n",
      "250/250 [==============================] - 0s 469us/step - loss: 0.4140 - accuracy: 0.8238\n",
      "Epoch 9/100\n",
      "250/250 [==============================] - 0s 472us/step - loss: 0.4062 - accuracy: 0.8282\n",
      "Epoch 10/100\n",
      "250/250 [==============================] - 0s 475us/step - loss: 0.3983 - accuracy: 0.8315\n",
      "Epoch 11/100\n",
      "250/250 [==============================] - 0s 567us/step - loss: 0.3930 - accuracy: 0.8341\n",
      "Epoch 12/100\n",
      "250/250 [==============================] - 0s 451us/step - loss: 0.3880 - accuracy: 0.8347\n",
      "Epoch 13/100\n",
      "250/250 [==============================] - 0s 439us/step - loss: 0.3848 - accuracy: 0.8364\n",
      "Epoch 14/100\n",
      "250/250 [==============================] - 0s 440us/step - loss: 0.3810 - accuracy: 0.8375\n",
      "Epoch 15/100\n",
      "250/250 [==============================] - 0s 463us/step - loss: 0.3784 - accuracy: 0.8409\n",
      "Epoch 16/100\n",
      "250/250 [==============================] - 0s 494us/step - loss: 0.3765 - accuracy: 0.8407\n",
      "Epoch 17/100\n",
      "250/250 [==============================] - 0s 473us/step - loss: 0.3752 - accuracy: 0.8400\n",
      "Epoch 18/100\n",
      "250/250 [==============================] - 0s 506us/step - loss: 0.3744 - accuracy: 0.8422\n",
      "Epoch 19/100\n",
      "250/250 [==============================] - 0s 487us/step - loss: 0.3731 - accuracy: 0.8420\n",
      "Epoch 20/100\n",
      "250/250 [==============================] - 0s 448us/step - loss: 0.3710 - accuracy: 0.8425\n",
      "Epoch 21/100\n",
      "250/250 [==============================] - 0s 459us/step - loss: 0.3695 - accuracy: 0.8443\n",
      "Epoch 22/100\n",
      "250/250 [==============================] - 0s 439us/step - loss: 0.3686 - accuracy: 0.8438\n",
      "Epoch 23/100\n",
      "250/250 [==============================] - 0s 438us/step - loss: 0.3675 - accuracy: 0.8459\n",
      "Epoch 24/100\n",
      "250/250 [==============================] - 0s 467us/step - loss: 0.3654 - accuracy: 0.8465\n",
      "Epoch 25/100\n",
      "250/250 [==============================] - 0s 485us/step - loss: 0.3653 - accuracy: 0.8481\n",
      "Epoch 26/100\n",
      "250/250 [==============================] - 0s 483us/step - loss: 0.3637 - accuracy: 0.8472\n",
      "Epoch 27/100\n",
      "250/250 [==============================] - 0s 480us/step - loss: 0.3625 - accuracy: 0.8487\n",
      "Epoch 28/100\n",
      "250/250 [==============================] - 0s 439us/step - loss: 0.3614 - accuracy: 0.8503\n",
      "Epoch 29/100\n",
      "250/250 [==============================] - 0s 441us/step - loss: 0.3610 - accuracy: 0.8487\n",
      "Epoch 30/100\n",
      "250/250 [==============================] - 0s 469us/step - loss: 0.3595 - accuracy: 0.8514\n",
      "Epoch 31/100\n",
      "250/250 [==============================] - 0s 513us/step - loss: 0.3592 - accuracy: 0.8505\n",
      "Epoch 32/100\n",
      "250/250 [==============================] - 0s 547us/step - loss: 0.3589 - accuracy: 0.8521\n",
      "Epoch 33/100\n",
      "250/250 [==============================] - 0s 475us/step - loss: 0.3589 - accuracy: 0.8511\n",
      "Epoch 34/100\n",
      "250/250 [==============================] - 0s 443us/step - loss: 0.3578 - accuracy: 0.8529\n",
      "Epoch 35/100\n",
      "250/250 [==============================] - 0s 441us/step - loss: 0.3589 - accuracy: 0.8497\n",
      "Epoch 36/100\n",
      "250/250 [==============================] - 0s 443us/step - loss: 0.3569 - accuracy: 0.8521\n",
      "Epoch 37/100\n",
      "250/250 [==============================] - 0s 502us/step - loss: 0.3570 - accuracy: 0.8536\n",
      "Epoch 38/100\n",
      "250/250 [==============================] - 0s 465us/step - loss: 0.3574 - accuracy: 0.8534\n",
      "Epoch 39/100\n",
      "250/250 [==============================] - 0s 494us/step - loss: 0.3561 - accuracy: 0.8531\n",
      "Epoch 40/100\n",
      "250/250 [==============================] - 0s 451us/step - loss: 0.3559 - accuracy: 0.8534\n",
      "Epoch 41/100\n",
      "250/250 [==============================] - 0s 449us/step - loss: 0.3561 - accuracy: 0.8522\n",
      "Epoch 42/100\n",
      "250/250 [==============================] - 0s 453us/step - loss: 0.3562 - accuracy: 0.8544\n",
      "Epoch 43/100\n",
      "250/250 [==============================] - 0s 502us/step - loss: 0.3555 - accuracy: 0.8536\n",
      "Epoch 44/100\n",
      "250/250 [==============================] - 0s 467us/step - loss: 0.3556 - accuracy: 0.8528\n",
      "Epoch 45/100\n",
      "250/250 [==============================] - 0s 467us/step - loss: 0.3557 - accuracy: 0.8547\n",
      "Epoch 46/100\n",
      "250/250 [==============================] - 0s 467us/step - loss: 0.3556 - accuracy: 0.8531\n",
      "Epoch 47/100\n",
      "250/250 [==============================] - 0s 439us/step - loss: 0.3551 - accuracy: 0.8553\n",
      "Epoch 48/100\n",
      "250/250 [==============================] - 0s 439us/step - loss: 0.3548 - accuracy: 0.8537\n",
      "Epoch 49/100\n",
      "250/250 [==============================] - 0s 439us/step - loss: 0.3548 - accuracy: 0.8530\n",
      "Epoch 50/100\n",
      "250/250 [==============================] - 0s 439us/step - loss: 0.3557 - accuracy: 0.8535\n",
      "Epoch 51/100\n",
      "250/250 [==============================] - 0s 440us/step - loss: 0.3546 - accuracy: 0.8534\n",
      "Epoch 52/100\n",
      "250/250 [==============================] - 0s 435us/step - loss: 0.3545 - accuracy: 0.8535\n",
      "Epoch 53/100\n",
      "250/250 [==============================] - 0s 436us/step - loss: 0.3548 - accuracy: 0.8540\n",
      "Epoch 54/100\n",
      "250/250 [==============================] - 0s 436us/step - loss: 0.3537 - accuracy: 0.8560\n",
      "Epoch 55/100\n",
      "250/250 [==============================] - 0s 435us/step - loss: 0.3535 - accuracy: 0.8558\n",
      "Epoch 56/100\n",
      "250/250 [==============================] - 0s 432us/step - loss: 0.3539 - accuracy: 0.8536\n",
      "Epoch 57/100\n",
      "250/250 [==============================] - 0s 435us/step - loss: 0.3532 - accuracy: 0.8536\n",
      "Epoch 58/100\n",
      "250/250 [==============================] - 0s 432us/step - loss: 0.3530 - accuracy: 0.8561\n",
      "Epoch 59/100\n",
      "250/250 [==============================] - 0s 435us/step - loss: 0.3533 - accuracy: 0.8530\n",
      "Epoch 60/100\n",
      "250/250 [==============================] - 0s 436us/step - loss: 0.3538 - accuracy: 0.8549\n",
      "Epoch 61/100\n",
      "250/250 [==============================] - 0s 504us/step - loss: 0.3537 - accuracy: 0.8553\n",
      "Epoch 62/100\n",
      "250/250 [==============================] - 0s 493us/step - loss: 0.3526 - accuracy: 0.8533\n",
      "Epoch 63/100\n",
      "250/250 [==============================] - 0s 497us/step - loss: 0.3525 - accuracy: 0.8551\n",
      "Epoch 64/100\n",
      "250/250 [==============================] - 0s 480us/step - loss: 0.3527 - accuracy: 0.8546\n",
      "Epoch 65/100\n",
      "250/250 [==============================] - 0s 474us/step - loss: 0.3530 - accuracy: 0.8535\n",
      "Epoch 66/100\n",
      "250/250 [==============================] - 0s 454us/step - loss: 0.3532 - accuracy: 0.8540\n",
      "Epoch 67/100\n",
      "250/250 [==============================] - 0s 436us/step - loss: 0.3523 - accuracy: 0.8555\n",
      "Epoch 68/100\n",
      "250/250 [==============================] - 0s 435us/step - loss: 0.3527 - accuracy: 0.8551\n",
      "Epoch 69/100\n",
      "250/250 [==============================] - 0s 435us/step - loss: 0.3518 - accuracy: 0.8564\n",
      "Epoch 70/100\n",
      "250/250 [==============================] - 0s 434us/step - loss: 0.3519 - accuracy: 0.8564\n",
      "Epoch 71/100\n",
      "250/250 [==============================] - 0s 551us/step - loss: 0.3524 - accuracy: 0.8553\n",
      "Epoch 72/100\n",
      "250/250 [==============================] - 0s 470us/step - loss: 0.3520 - accuracy: 0.8570\n",
      "Epoch 73/100\n",
      "250/250 [==============================] - 0s 435us/step - loss: 0.3517 - accuracy: 0.8549\n",
      "Epoch 74/100\n",
      "250/250 [==============================] - 0s 437us/step - loss: 0.3522 - accuracy: 0.8565\n",
      "Epoch 75/100\n",
      "250/250 [==============================] - 0s 451us/step - loss: 0.3524 - accuracy: 0.8545\n",
      "Epoch 76/100\n",
      "250/250 [==============================] - 0s 443us/step - loss: 0.3517 - accuracy: 0.8551\n",
      "Epoch 77/100\n",
      "250/250 [==============================] - 0s 435us/step - loss: 0.3515 - accuracy: 0.8546\n",
      "Epoch 78/100\n",
      "250/250 [==============================] - 0s 437us/step - loss: 0.3513 - accuracy: 0.8549\n",
      "Epoch 79/100\n",
      "250/250 [==============================] - 0s 435us/step - loss: 0.3515 - accuracy: 0.8558\n",
      "Epoch 80/100\n",
      "250/250 [==============================] - 0s 435us/step - loss: 0.3508 - accuracy: 0.8555\n",
      "Epoch 81/100\n",
      "250/250 [==============================] - 0s 442us/step - loss: 0.3510 - accuracy: 0.8551\n",
      "Epoch 82/100\n",
      "250/250 [==============================] - 0s 435us/step - loss: 0.3510 - accuracy: 0.8561\n",
      "Epoch 83/100\n",
      "250/250 [==============================] - 0s 438us/step - loss: 0.3506 - accuracy: 0.8559\n",
      "Epoch 84/100\n",
      "250/250 [==============================] - 0s 435us/step - loss: 0.3509 - accuracy: 0.8555\n",
      "Epoch 85/100\n",
      "250/250 [==============================] - 0s 434us/step - loss: 0.3501 - accuracy: 0.8558\n",
      "Epoch 86/100\n",
      "250/250 [==============================] - 0s 435us/step - loss: 0.3504 - accuracy: 0.8565\n",
      "Epoch 87/100\n",
      "250/250 [==============================] - 0s 439us/step - loss: 0.3508 - accuracy: 0.8580\n",
      "Epoch 88/100\n",
      "250/250 [==============================] - 0s 436us/step - loss: 0.3506 - accuracy: 0.8560\n",
      "Epoch 89/100\n",
      "250/250 [==============================] - 0s 435us/step - loss: 0.3501 - accuracy: 0.8571\n",
      "Epoch 90/100\n",
      "250/250 [==============================] - 0s 439us/step - loss: 0.3499 - accuracy: 0.8564\n",
      "Epoch 91/100\n",
      "250/250 [==============================] - 0s 435us/step - loss: 0.3495 - accuracy: 0.8562\n",
      "Epoch 92/100\n",
      "250/250 [==============================] - 0s 435us/step - loss: 0.3493 - accuracy: 0.8565\n",
      "Epoch 93/100\n",
      "250/250 [==============================] - 0s 435us/step - loss: 0.3496 - accuracy: 0.8568\n",
      "Epoch 94/100\n",
      "250/250 [==============================] - 0s 438us/step - loss: 0.3500 - accuracy: 0.8551\n",
      "Epoch 95/100\n",
      "250/250 [==============================] - 0s 435us/step - loss: 0.3498 - accuracy: 0.8554\n",
      "Epoch 96/100\n",
      "250/250 [==============================] - 0s 434us/step - loss: 0.3492 - accuracy: 0.8564\n",
      "Epoch 97/100\n",
      "250/250 [==============================] - 0s 439us/step - loss: 0.3489 - accuracy: 0.8574\n",
      "Epoch 98/100\n",
      "250/250 [==============================] - 0s 444us/step - loss: 0.3498 - accuracy: 0.8565\n",
      "Epoch 99/100\n",
      "250/250 [==============================] - 0s 437us/step - loss: 0.3490 - accuracy: 0.8570\n",
      "Epoch 100/100\n",
      "250/250 [==============================] - 0s 435us/step - loss: 0.3486 - accuracy: 0.8564\n"
     ]
    },
    {
     "data": {
      "text/plain": [
       "<tensorflow.python.keras.callbacks.History at 0x1dd8fa39748>"
      ]
     },
     "execution_count": 24,
     "metadata": {},
     "output_type": "execute_result"
    }
   ],
   "source": [
    "#Build a model (ANN) in tensorflow/keras\n",
    "\n",
    "import tensorflow as tf\n",
    "from tensorflow import keras\n",
    "\n",
    "model = keras.Sequential([keras.layers.Dense(9, input_shape=(9,), activation='relu'),\n",
    "                          keras.layers.Dense(5, activation = 'relu'),\n",
    "                          keras.layers.Dense(1, activation = 'sigmoid')\n",
    "])\n",
    "\n",
    "model.compile(optimizer = 'adam', loss='binary_crossentropy', metrics=['accuracy'])\n",
    "\n",
    "model.fit(X_train, y_train, epochs = 100)"
   ]
  },
  {
   "cell_type": "code",
   "execution_count": 25,
   "metadata": {},
   "outputs": [
    {
     "name": "stdout",
     "output_type": "stream",
     "text": [
      "63/63 [==============================] - 0s 459us/step - loss: 0.3625 - accuracy: 0.8540\n"
     ]
    },
    {
     "data": {
      "text/plain": [
       "[0.36247166991233826, 0.8539999723434448]"
      ]
     },
     "execution_count": 25,
     "metadata": {},
     "output_type": "execute_result"
    }
   ],
   "source": [
    "model.evaluate(X_test, y_test)"
   ]
  },
  {
   "cell_type": "code",
   "execution_count": 26,
   "metadata": {},
   "outputs": [
    {
     "data": {
      "text/plain": [
       "array([[0.02863419],\n",
       "       [0.07709438],\n",
       "       [0.12135848],\n",
       "       [0.12176463],\n",
       "       [0.07722479]], dtype=float32)"
      ]
     },
     "execution_count": 26,
     "metadata": {},
     "output_type": "execute_result"
    }
   ],
   "source": [
    "yp = model.predict(X_test)\n",
    "yp[:5]"
   ]
  },
  {
   "cell_type": "code",
   "execution_count": 27,
   "metadata": {},
   "outputs": [
    {
     "data": {
      "text/plain": [
       "[0, 0, 0, 0, 0, 0, 0, 0, 0, 1]"
      ]
     },
     "execution_count": 27,
     "metadata": {},
     "output_type": "execute_result"
    }
   ],
   "source": [
    "y_pred = []\n",
    "\n",
    "for i in yp:\n",
    "    if i>0.5:\n",
    "        y_pred.append(1)\n",
    "    else:\n",
    "        y_pred.append(0)\n",
    "\n",
    "y_pred[:10]"
   ]
  },
  {
   "cell_type": "code",
   "execution_count": 29,
   "metadata": {},
   "outputs": [
    {
     "data": {
      "text/plain": [
       "7054    0\n",
       "442     0\n",
       "3954    0\n",
       "2288    0\n",
       "3196    0\n",
       "6178    0\n",
       "8351    0\n",
       "5658    1\n",
       "2065    0\n",
       "413     1\n",
       "Name: Exited, dtype: int64"
      ]
     },
     "execution_count": 29,
     "metadata": {},
     "output_type": "execute_result"
    }
   ],
   "source": [
    "y_test[:10]"
   ]
  },
  {
   "cell_type": "code",
   "execution_count": 30,
   "metadata": {},
   "outputs": [
    {
     "name": "stdout",
     "output_type": "stream",
     "text": [
      "              precision    recall  f1-score   support\n",
      "\n",
      "           0       0.86      0.97      0.91      1595\n",
      "           1       0.78      0.39      0.52       405\n",
      "\n",
      "    accuracy                           0.85      2000\n",
      "   macro avg       0.82      0.68      0.72      2000\n",
      "weighted avg       0.85      0.85      0.83      2000\n",
      "\n"
     ]
    }
   ],
   "source": [
    "#metrics\n",
    "\n",
    "from sklearn.metrics import confusion_matrix , classification_report\n",
    "print(classification_report(y_test,y_pred))"
   ]
  },
  {
   "cell_type": "code",
   "execution_count": 31,
   "metadata": {},
   "outputs": [
    {
     "data": {
      "text/plain": [
       "Text(69.0, 0.5, 'Truth')"
      ]
     },
     "execution_count": 31,
     "metadata": {},
     "output_type": "execute_result"
    },
    {
     "data": {
      "image/png": "[encoded data removed]",
      "text/plain": [
       "<Figure size 720x504 with 2 Axes>"
      ]
     },
     "metadata": {
      "needs_background": "light"
     },
     "output_type": "display_data"
    }
   ],
   "source": [
    "import seaborn as sn\n",
    "cm = tf.math.confusion_matrix(labels=y_test,predictions=y_pred)\n",
    "\n",
    "plt.figure(figsize = (10,7))\n",
    "sn.heatmap(cm, annot=True, fmt='d')\n",
    "plt.xlabel('Predicted')\n",
    "plt.ylabel('Truth')"
   ]
  },
  {
   "cell_type": "code",
   "execution_count": 32,
   "metadata": {},
   "outputs": [
    {
     "data": {
      "text/plain": [
       "0.854"
      ]
     },
     "execution_count": 32,
     "metadata": {},
     "output_type": "execute_result"
    }
   ],
   "source": [
    "accuracy = (1551+157)/(1551+157+248+44)\n",
    "accuracy"
   ]
  },
  {
   "cell_type": "code",
   "execution_count": 34,
   "metadata": {},
   "outputs": [
    {
     "data": {
      "text/plain": [
       "0.8621456364647027"
      ]
     },
     "execution_count": 34,
     "metadata": {},
     "output_type": "execute_result"
    }
   ],
   "source": [
    "#precision for 0 class\n",
    "(1551)/(1551+248)"
   ]
  },
  {
   "cell_type": "code",
   "execution_count": 35,
   "metadata": {},
   "outputs": [
    {
     "data": {
      "text/plain": [
       "0.7810945273631841"
      ]
     },
     "execution_count": 35,
     "metadata": {},
     "output_type": "execute_result"
    }
   ],
   "source": [
    "#precision for 1 class\n",
    "(157)/(157+44)"
   ]
  },
  {
   "cell_type": "code",
   "execution_count": 36,
   "metadata": {},
   "outputs": [
    {
     "data": {
      "text/plain": [
       "0.9724137931034482"
      ]
     },
     "execution_count": 36,
     "metadata": {},
     "output_type": "execute_result"
    }
   ],
   "source": [
    "#recall for 0 class\n",
    "(1551)/(1551+44)"
   ]
  },
  {
   "cell_type": "code",
   "execution_count": 37,
   "metadata": {},
   "outputs": [
    {
     "data": {
      "text/plain": [
       "0.38765432098765434"
      ]
     },
     "execution_count": 37,
     "metadata": {},
     "output_type": "execute_result"
    }
   ],
   "source": [
    "#recall for 1 class\n",
    "(157)/(157+248)"
   ]
  },
  {
   "cell_type": "code",
   "execution_count": 41,
   "metadata": {},
   "outputs": [
    {
     "name": "stdout",
     "output_type": "stream",
     "text": [
      "f1-score for class 0 : 0.9116939890710382\n",
      "f1-score for class 1 : 0.5110344827586206\n"
     ]
    }
   ],
   "source": [
    "f1_score_0 = (2*0.86*0.97)/(0.86+0.97)\n",
    "f1_score_1 = (2*0.78*0.38)/(0.78+0.38)\n",
    "\n",
    "print(f'f1-score for class 0 : {f1_score_0}')\n",
    "print(f'f1-score for class 1 : {f1_score_1}')"
   ]
  }
 ],
 "metadata": {
  "kernelspec": {
   "display_name": "Python 3",
   "language": "python",
   "name": "python3"
  },
  "language_info": {
   "codemirror_mode": {
    "name": "ipython",
    "version": 3
   },
   "file_extension": ".py",
   "mimetype": "text/x-python",
   "name": "python",
   "nbconvert_exporter": "python",
   "pygments_lexer": "ipython3",
   "version": "3.7.4"
  }
 },
 "nbformat": 4,
 "nbformat_minor": 2
}
